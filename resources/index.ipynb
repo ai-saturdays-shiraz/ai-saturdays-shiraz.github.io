{
 "cells": [
  {
   "cell_type": "markdown",
   "metadata": {},
   "source": [
    "<div class=\"alert alert-success\">\n",
    "    <b>Scientific Python</b>:\n",
    "     <ul>\n",
    "      <li>\n",
    "          <a href=\"http://www.scipy-lectures.org/\">Scipy Lecture Notes</a>\n",
    "      </li>\n",
    "      <li>\n",
    "          <a href=\"https://github.com/jakevdp/PythonDataScienceHandbook\">Python Data Science Handbook: full text in Jupyter Notebooks, Jake VandePlas</a>\n",
    "      </li>\n",
    "      <li>\n",
    "          <a href=\"https://github.com/wesm/pydata-book\">Python for Data Analysis, 2nd Edition, Wes McKinney</a>\n",
    "      </li>\n",
    "      \n",
    "    </ul>\n",
    "</div>"
   ]
  }
 ],
 "metadata": {
  "kernelspec": {
   "display_name": "Python 3",
   "language": "python",
   "name": "python3"
  },
  "language_info": {
   "codemirror_mode": {
    "name": "ipython",
    "version": 3
   },
   "file_extension": ".py",
   "mimetype": "text/x-python",
   "name": "python",
   "nbconvert_exporter": "python",
   "pygments_lexer": "ipython3",
   "version": "3.6.3"
  },
  "nikola": {
   "category": "",
   "date": "2018-01-26 13:34:22 UTC+03:30",
   "description": "",
   "link": "",
   "slug": "resources",
   "tags": "",
   "title": "Resources",
   "type": "text"
  }
 },
 "nbformat": 4,
 "nbformat_minor": 2
}
